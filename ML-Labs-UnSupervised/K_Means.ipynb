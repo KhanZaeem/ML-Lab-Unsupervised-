{
 "cells": [
  {
   "cell_type": "code",
   "execution_count": 28,
   "metadata": {},
   "outputs": [],
   "source": [
    " from sklearn.cluster import KMeans\n",
    "import pandas as pd\n",
    "from sklearn.preprocessing import MinMaxScaler\n",
    "from matplotlib import pyplot as plt"
   ]
  },
  {
   "cell_type": "code",
   "execution_count": 29,
   "metadata": {},
   "outputs": [],
   "source": [
    "df=pd.read_csv('income.csv')"
   ]
  },
  {
   "cell_type": "code",
   "execution_count": 30,
   "metadata": {},
   "outputs": [
    {
     "name": "stdout",
     "output_type": "stream",
     "text": [
      "Head       Name  Age  Income($)\n",
      "0      Rob   27      70000\n",
      "1  Michael   29      90000\n",
      "2    Mohan   29      61000\n",
      "3   Ismail   28      60000\n",
      "4     Kory   42     150000\n"
     ]
    }
   ],
   "source": [
    "print('Head',df.head(5))"
   ]
  },
  {
   "cell_type": "code",
   "execution_count": 31,
   "metadata": {},
   "outputs": [
    {
     "data": {
      "text/plain": [
       "<function matplotlib.pyplot.show(*args, **kw)>"
      ]
     },
     "execution_count": 31,
     "metadata": {},
     "output_type": "execute_result"
    },
    {
     "data": {
      "image/png": "[encoded data removed]",
      "text/plain": [
       "<Figure size 432x288 with 1 Axes>"
      ]
     },
     "metadata": {
      "needs_background": "light"
     },
     "output_type": "display_data"
    }
   ],
   "source": [
    "plt.scatter(df.Age,df['Income($)'])\n",
    "plt.xlabel('Age')\n",
    "plt.show"
   ]
  },
  {
   "cell_type": "code",
   "execution_count": 32,
   "metadata": {},
   "outputs": [],
   "source": [
    "model=KMeans(n_clusters=3)\n",
    "y_predicted=model.fit_predict(df[['Age','Income($)']])"
   ]
  },
  {
   "cell_type": "code",
   "execution_count": 33,
   "metadata": {},
   "outputs": [
    {
     "name": "stdout",
     "output_type": "stream",
     "text": [
      "\n",
      " Predictions [2 2 1 1 0 0 0 0 0 0 0 1 1 1 1 1 1 1 1 2 2 1]\n",
      "\n",
      " Head: \n",
      "       Name  Age  Income($)  cluster\n",
      "0      Rob   27      70000        2\n",
      "1  Michael   29      90000        2\n",
      "2    Mohan   29      61000        1\n",
      "3   Ismail   28      60000        1\n",
      "4     Kory   42     150000        0\n",
      "\n",
      " Centroids\n",
      "[[3.82857143e+01 1.50000000e+05]\n",
      " [3.29090909e+01 5.61363636e+04]\n",
      " [3.40000000e+01 8.05000000e+04]]\n"
     ]
    }
   ],
   "source": [
    "print('\\n Predictions',y_predicted)\n",
    "df['cluster']=y_predicted\n",
    "print('\\n Head: \\n',df.head(5))\n",
    "print('\\n Centroids')\n",
    "print(model.cluster_centers_)"
   ]
  },
  {
   "cell_type": "code",
   "execution_count": 34,
   "metadata": {},
   "outputs": [
    {
     "data": {
      "image/png": "[encoded data removed]",
      "text/plain": [
       "<Figure size 432x288 with 1 Axes>"
      ]
     },
     "metadata": {
      "needs_background": "light"
     },
     "output_type": "display_data"
    }
   ],
   "source": [
    "df1=df[df.cluster==0]\n",
    "df2=df[df.cluster==1]\n",
    "df3=df[df.cluster==2]\n",
    "plt.scatter(df1.Age,df1['Income($)'],color='green',label='Income($)')\n",
    "plt.scatter(df2.Age,df2['Income($)'],color='red',label='Income($)')\n",
    "plt.scatter(df3.Age,df3['Income($)'],color='black',label='Income($)')\n",
    "plt.scatter(model.cluster_centers_[:,0],model.cluster_centers_[:,1],color='purple',marker='*',label='centroid')\n",
    "plt.title('Before Re-scaling')\n",
    "plt.xlabel('Age')\n",
    "plt.ylabel('Income ($)')\n",
    "plt.legend()\n",
    "plt.show()"
   ]
  },
  {
   "cell_type": "code",
   "execution_count": 35,
   "metadata": {},
   "outputs": [],
   "source": [
    "scaler = MinMaxScaler()\n",
    "scaler.fit(df[['Income($)']])\n",
    "df['Income($)'] = scaler.transform(df[['Income($)']])"
   ]
  },
  {
   "cell_type": "code",
   "execution_count": 36,
   "metadata": {},
   "outputs": [],
   "source": [
    "scaler.fit(df[['Age']])\n",
    "df['Age'] = scaler.transform(df[['Age']])\n"
   ]
  },
  {
   "cell_type": "code",
   "execution_count": 37,
   "metadata": {},
   "outputs": [
    {
     "name": "stdout",
     "output_type": "stream",
     "text": [
      "\n",
      "Head\n",
      "      Name       Age  Income($)  cluster\n",
      "0      Rob  0.058824   0.213675        2\n",
      "1  Michael  0.176471   0.384615        2\n",
      "2    Mohan  0.176471   0.136752        1\n",
      "3   Ismail  0.117647   0.128205        1\n",
      "4     Kory  0.941176   0.897436        0\n"
     ]
    },
    {
     "data": {
      "image/png": "[encoded data removed]",
      "text/plain": [
       "<Figure size 432x288 with 1 Axes>"
      ]
     },
     "metadata": {
      "needs_background": "light"
     },
     "output_type": "display_data"
    }
   ],
   "source": [
    "print('\\nHead')\n",
    "print(df.head(5))\n",
    "plt.scatter(df.Age,df['Income($)'])\n",
    "plt.show()  "
   ]
  },
  {
   "cell_type": "code",
   "execution_count": 38,
   "metadata": {},
   "outputs": [
    {
     "name": "stdout",
     "output_type": "stream",
     "text": [
      "\n",
      "Predictions [1 1 1 1 2 2 2 2 2 2 2 1 1 1 1 1 0 0 0 0 0 0]\n"
     ]
    }
   ],
   "source": [
    "km = KMeans(n_clusters=3)\n",
    "y_predicted = km.fit_predict(df[['Age','Income($)']])\n",
    "print('\\nPredictions', y_predicted)\n"
   ]
  },
  {
   "cell_type": "code",
   "execution_count": 39,
   "metadata": {},
   "outputs": [
    {
     "name": "stdout",
     "output_type": "stream",
     "text": [
      "\n",
      "Head\n",
      "      Name       Age  Income($)  cluster\n",
      "0      Rob  0.058824   0.213675        1\n",
      "1  Michael  0.176471   0.384615        1\n",
      "2    Mohan  0.176471   0.136752        1\n",
      "3   Ismail  0.117647   0.128205        1\n",
      "4     Kory  0.941176   0.897436        2\n",
      "\n",
      "Centroids\n",
      "[[3.82857143e+01 1.50000000e+05]\n",
      " [3.29090909e+01 5.61363636e+04]\n",
      " [3.40000000e+01 8.05000000e+04]]\n"
     ]
    }
   ],
   "source": [
    "df['cluster']=y_predicted\n",
    "print('\\nHead')\n",
    "print(df.head(5))\n",
    "print('\\nCentroids')\n",
    "print(model.cluster_centers_)\n"
   ]
  },
  {
   "cell_type": "code",
   "execution_count": 45,
   "metadata": {},
   "outputs": [
    {
     "data": {
      "image/png": "[encoded data removed]",
      "text/plain": [
       "<Figure size 432x288 with 1 Axes>"
      ]
     },
     "metadata": {
      "needs_background": "light"
     },
     "output_type": "display_data"
    }
   ],
   "source": [
    "df1=df[df.cluster==0]\n",
    "df2=df[df.cluster==1]\n",
    "df3=df[df.cluster==2]\n",
    "plt.scatter(df1.Age,df1['Income($)'],color='green',label='Income($)')\n",
    "plt.scatter(df2.Age,df2['Income($)'],color='red',label='Income($)')\n",
    "plt.scatter(df3.Age,df3['Income($)'],color='black',label='Income($)')\n",
    "plt.scatter(model.cluster_centers_[:,0],model.cluster_centers_[:,1],color='purple',marker='*',label='centroid')\n",
    "plt.title('After Re-scaling')\n",
    "plt.xlabel('Age')\n",
    "plt.ylabel('Income ($)')\n",
    "plt.legend()\n",
    "plt.show()"
   ]
  },
  {
   "cell_type": "code",
   "execution_count": 43,
   "metadata": {},
   "outputs": [],
   "source": [
    "sse = []\n",
    "k_rng = range(1,10)\n",
    "for k in k_rng:\n",
    "    model = KMeans(n_clusters=k)\n",
    "    model.fit(df[['Age','Income($)']])\n",
    "    sse.append(model.inertia_)"
   ]
  },
  {
   "cell_type": "code",
   "execution_count": 44,
   "metadata": {},
   "outputs": [
    {
     "data": {
      "image/png": "[encoded data removed]",
      "text/plain": [
       "<Figure size 432x288 with 1 Axes>"
      ]
     },
     "metadata": {
      "needs_background": "light"
     },
     "output_type": "display_data"
    }
   ],
   "source": [
    "plt.xlabel('K')\n",
    "plt.ylabel('Sum of squared error')\n",
    "plt.title('Elbow Plot')\n",
    "plt.plot(k_rng,sse)\n",
    "plt.show()"
   ]
  },
  {
   "cell_type": "code",
   "execution_count": null,
   "metadata": {},
   "outputs": [],
   "source": []
  }
 ],
 "metadata": {
  "kernelspec": {
   "display_name": "Python 3",
   "language": "python",
   "name": "python3"
  },
  "language_info": {
   "codemirror_mode": {
    "name": "ipython",
    "version": 3
   },
   "file_extension": ".py",
   "mimetype": "text/x-python",
   "name": "python",
   "nbconvert_exporter": "python",
   "pygments_lexer": "ipython3",
   "version": "3.7.4"
  }
 },
 "nbformat": 4,
 "nbformat_minor": 2
}
